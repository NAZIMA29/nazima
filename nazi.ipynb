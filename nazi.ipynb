{
 "cells": [
  {
   "cell_type": "code",
   "execution_count": null,
   "id": "9acf5641",
   "metadata": {},
   "outputs": [],
   "source": []
  },
  {
   "cell_type": "code",
   "execution_count": 2,
   "id": "8db7f282",
   "metadata": {},
   "outputs": [
    {
     "name": "stdout",
     "output_type": "stream",
     "text": [
      "enter ur name:Nazima\n",
      "Welcome  Nazima\n"
     ]
    }
   ],
   "source": [
    "k = input('enter ur name:')\n",
    "print('Welcome ', k )"
   ]
  },
  {
   "cell_type": "code",
   "execution_count": 5,
   "id": "f796f723",
   "metadata": {},
   "outputs": [
    {
     "name": "stdout",
     "output_type": "stream",
     "text": [
      "the sum is 30\n"
     ]
    }
   ],
   "source": [
    "a = 5\n",
    "b = 6\n",
    "c =a * b\n",
    "print('the sum is', c)"
   ]
  },
  {
   "cell_type": "code",
   "execution_count": 6,
   "id": "c2d8dc7e",
   "metadata": {},
   "outputs": [
    {
     "name": "stdout",
     "output_type": "stream",
     "text": [
      "please enter dollar:200\n",
      "15600.0 ruppes\n"
     ]
    }
   ],
   "source": [
    "dollars = float(input(\"please enter dollar:\"))\n",
    "rupees = dollars * 78\n",
    "print(rupees, \"ruppes\")"
   ]
  },
  {
   "cell_type": "code",
   "execution_count": 1,
   "id": "fc71f879",
   "metadata": {},
   "outputs": [],
   "source": [
    "def max_of_two_num(n,m):\n",
    "    if n>m:\n",
    "        return n\n",
    "    else:\n",
    "        return m\n",
    "    \n",
    "    a=int(input(\"Enter first number:\"))\n",
    "    b=int(input(\"Enter second number:\"))\n",
    "    \n",
    "    x=max_of_two_num(a,b)\n",
    "    \n",
    "    print(\"maximum of\",a,\"and\",b,\"is\",x)\n"
   ]
  },
  {
   "cell_type": "code",
   "execution_count": 4,
   "id": "c24ef504",
   "metadata": {},
   "outputs": [
    {
     "ename": "IndentationError",
     "evalue": "unindent does not match any outer indentation level (<tokenize>, line 4)",
     "output_type": "error",
     "traceback": [
      "\u001b[1;36m  File \u001b[1;32m<tokenize>:4\u001b[1;36m\u001b[0m\n\u001b[1;33m    elif(b>=a) and (b>=c):\u001b[0m\n\u001b[1;37m    ^\u001b[0m\n\u001b[1;31mIndentationError\u001b[0m\u001b[1;31m:\u001b[0m unindent does not match any outer indentation level\n"
     ]
    }
   ],
   "source": [
    "def maximum(a,b,c):\n",
    "     if(a>=b) and (a>=c):\n",
    "        largest=a\n",
    "    elif(b>=a) and (b>=c):\n",
    "        largest=b\n",
    "    else:\n",
    "        largest=c\n",
    "    return largest\n",
    "a=10\n",
    "b=20\n",
    "c=30\n",
    "printt(maximum(a,b,c))"
   ]
  },
  {
   "cell_type": "code",
   "execution_count": 1,
   "id": "613b26ca",
   "metadata": {},
   "outputs": [
    {
     "name": "stdout",
     "output_type": "stream",
     "text": [
      "3\n",
      "2\n"
     ]
    }
   ],
   "source": [
    "def add(a,b):\n",
    "    c=a + b\n",
    "    return c\n",
    "y = add(1,2)\n",
    "print(y)\n",
    "z = add(5,4)\n",
    "print(2)"
   ]
  },
  {
   "cell_type": "code",
   "execution_count": 5,
   "id": "24d8744c",
   "metadata": {},
   "outputs": [
    {
     "name": "stdout",
     "output_type": "stream",
     "text": [
      "6\n",
      "16\n"
     ]
    }
   ],
   "source": [
    "def multiply(a,b,c):\n",
    "    c=a*b*c\n",
    "    return c\n",
    "y = multiply(1,2,3)\n",
    "print(y)\n",
    "z = multiply(2,4,2)\n",
    "print(z)\n"
   ]
  },
  {
   "cell_type": "code",
   "execution_count": 5,
   "id": "2799c5b0",
   "metadata": {},
   "outputs": [],
   "source": [
    "def factorial(x):\n",
    "    if x == 1:\n",
    "        return 1\n",
    "    else:\n",
    "        return(x * factorial(x-1))\n",
    "    num = 7\n",
    "    result = factorial(num)\n",
    "    print(\"the factorial of\",num, \"is\",result)"
   ]
  },
  {
   "cell_type": "code",
   "execution_count": 4,
   "id": "e11038cb",
   "metadata": {},
   "outputs": [
    {
     "name": "stdout",
     "output_type": "stream",
     "text": [
      "[[17, 15, 4], [10, 12, 9], [11, 13, 18]]\n"
     ]
    }
   ],
   "source": [
    "x = [[12,7,3],\n",
    "    [4,5,6],\n",
    "    [7,8,9]]\n",
    "\n",
    "y = [[5,8,1],\n",
    "    [6,7,3],\n",
    "    [4,5,9]]\n",
    "\n",
    "result = [[0,0,0],\n",
    "         [0,0,0],\n",
    "         [0,0,0]]\n",
    "\n",
    "for i in range(len(x)):\n",
    " \n",
    "    for j in range(len(x[0])):\n",
    "        result[i][j] = x[i][j] + y[i][j]\n",
    "print(result)\n",
    "                            "
   ]
  },
  {
   "cell_type": "code",
   "execution_count": null,
   "id": "0619bc89",
   "metadata": {},
   "outputs": [],
   "source": []
  },
  {
   "cell_type": "code",
   "execution_count": null,
   "id": "9be16163",
   "metadata": {},
   "outputs": [],
   "source": []
  },
  {
   "cell_type": "code",
   "execution_count": null,
   "id": "54302684",
   "metadata": {},
   "outputs": [],
   "source": []
  },
  {
   "cell_type": "code",
   "execution_count": null,
   "id": "53e0de0c",
   "metadata": {},
   "outputs": [],
   "source": []
  }
 ],
 "metadata": {
  "kernelspec": {
   "display_name": "Python 3 (ipykernel)",
   "language": "python",
   "name": "python3"
  },
  "language_info": {
   "codemirror_mode": {
    "name": "ipython",
    "version": 3
   },
   "file_extension": ".py",
   "mimetype": "text/x-python",
   "name": "python",
   "nbconvert_exporter": "python",
   "pygments_lexer": "ipython3",
   "version": "3.9.12"
  }
 },
 "nbformat": 4,
 "nbformat_minor": 5
}
